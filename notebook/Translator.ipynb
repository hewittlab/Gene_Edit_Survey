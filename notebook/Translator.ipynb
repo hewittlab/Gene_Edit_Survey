{
 "cells": [
  {
   "cell_type": "markdown",
   "metadata": {},
   "source": [
    "#Translator\n",
    "\n",
    "This notebook is used to translate the other language free text entries into english via the Python module [Goslate](https://pypi.python.org/pypi/goslate).\n",
    "\n",
    "You should install this module via pip before running this notebook.\n",
    "\n",
    "*Note: This has only been tested on Python 3.4*"
   ]
  },
  {
   "cell_type": "code",
   "execution_count": 1,
   "metadata": {
    "collapsed": true
   },
   "outputs": [],
   "source": [
    "import json\n",
    "import goslate"
   ]
  },
  {
   "cell_type": "markdown",
   "metadata": {},
   "source": [
    "####Used to convert the language encodings from the input file into ones that the Goslate module understands."
   ]
  },
  {
   "cell_type": "code",
   "execution_count": 2,
   "metadata": {
    "collapsed": true
   },
   "outputs": [],
   "source": [
    "langs = {\"ENGLISH\": \"en\", \"FRENCH\":\"fr\", \"CHINESE\":\"zh-TW\", \"ARABIC\":\"ar\", \"RUSSIAN\":\"ru\", \"GERMAN\":\"de\", \"HINDI\":\"hi\", \"JAPANESE\":\"ja\", \"PORTUGUESE\":\"pt\", \"SPANISH\":\"es\", \"TURKISH\":\"tr\" }"
   ]
  },
  {
   "cell_type": "markdown",
   "metadata": {},
   "source": [
    "####Change to your input file"
   ]
  },
  {
   "cell_type": "code",
   "execution_count": 3,
   "metadata": {
    "collapsed": true
   },
   "outputs": [],
   "source": [
    "with open(\"../data/data_with_free_text.json\") as f:\n",
    "    answers = json.load(f)"
   ]
  },
  {
   "cell_type": "markdown",
   "metadata": {},
   "source": [
    "####Actual Translation\n",
    "Works by calling the Goslate library on the free text boxes that need translating. Filters out the non-english and blank answers to not waste time.\n",
    "\n",
    "I added the `timeout=100` to the constructor of Goslate as I was getting a timeout error a few minutes in to processing. You may or may not need to tweak this. [YMMV](http://dictionary.cambridge.org/dictionary/british/ymmv)."
   ]
  },
  {
   "cell_type": "code",
   "execution_count": 4,
   "metadata": {
    "collapsed": false,
    "scrolled": false
   },
   "outputs": [],
   "source": [
    "gs = goslate.Goslate(timeout=100)\n",
    "\n",
    "free_text_questions = ['question_25', 'other_traits_alter']\n",
    "for answer in [answer for answer in answers if answer['language'] != \"ENGLISH\"]:\n",
    "    for question in free_text_questions:\n",
    "        if question in answer:\n",
    "            if answer[question] != \"\":\n",
    "                result = gs.translate(answer[question], \"en\")\n",
    "                answer[question] = result"
   ]
  },
  {
   "cell_type": "markdown",
   "metadata": {},
   "source": [
    "####Write translated data to file"
   ]
  },
  {
   "cell_type": "code",
   "execution_count": 5,
   "metadata": {
    "collapsed": true
   },
   "outputs": [],
   "source": [
    "with open(\"../data/data_with_free_text_translated.json\", \"w\") as f:\n",
    "    json.dump(answers, f, indent=4)"
   ]
  }
 ],
 "metadata": {
  "kernelspec": {
   "display_name": "Python 3",
   "language": "python",
   "name": "python3"
  },
  "language_info": {
   "codemirror_mode": {
    "name": "ipython",
    "version": 3
   },
   "file_extension": ".py",
   "mimetype": "text/x-python",
   "name": "python",
   "nbconvert_exporter": "python",
   "pygments_lexer": "ipython3",
   "version": "3.4.3"
  }
 },
 "nbformat": 4,
 "nbformat_minor": 0
}
